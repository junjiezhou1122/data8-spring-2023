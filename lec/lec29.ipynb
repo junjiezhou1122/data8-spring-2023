{
 "cells": [
  {
   "cell_type": "code",
   "execution_count": null,
   "metadata": {},
   "outputs": [],
   "source": [
    "from datascience import *\n",
    "import numpy as np"
   ]
  },
  {
   "cell_type": "code",
   "execution_count": null,
   "metadata": {},
   "outputs": [],
   "source": [
    "import matplotlib\n",
    "%matplotlib inline\n",
    "import matplotlib.pyplot as plots\n",
    "plots.style.use('fivethirtyeight')"
   ]
  },
  {
   "cell_type": "markdown",
   "metadata": {},
   "source": [
    "In this lecture, I am going to use more interactive plots (they look better) so I am using the plotly.express library.  We won't test you on this but it's good to know."
   ]
  },
  {
   "cell_type": "code",
   "execution_count": null,
   "metadata": {},
   "outputs": [],
   "source": [
    "import plotly.express as px\n",
    "from plotly.subplots import make_subplots\n",
    "import plotly.graph_objects as go"
   ]
  },
  {
   "cell_type": "markdown",
   "metadata": {},
   "source": [
    "# Lecture 29"
   ]
  },
  {
   "cell_type": "markdown",
   "metadata": {},
   "source": [
    "## Predicting Child Heights\n",
    "\n",
    "Recall, long ago, in lecture 10 we built a function to predict child heights.  We started with [Galton's height dataset](https://galton.org/essays/1880-1889/galton-1886-jaigi-regression-stature.pdf) which contained the full grown heigh of children and the height's of both of their parents. We then computed the average height of the parents of each child."
   ]
  },
  {
   "cell_type": "markdown",
   "metadata": {},
   "source": [
    "The following is the simplified version of the data containing just the parent's heights and the child height."
   ]
  },
  {
   "cell_type": "code",
   "execution_count": null,
   "metadata": {},
   "outputs": [],
   "source": [
    "# Note: Child heights are the **adult** heights of children in a family\n",
    "families = Table.read_table('family_heights.csv')\n",
    "parent_avgs = (families.column('father') + families.column('mother'))/2\n",
    "heights = Table().with_columns(\n",
    "    'Parent Average', parent_avgs,\n",
    "    'Child', families.column('child'),\n",
    ")\n",
    "heights"
   ]
  },
  {
   "cell_type": "markdown",
   "metadata": {},
   "source": [
    "What was the relationship between height of the full grown child and the height of the parents?"
   ]
  },
  {
   "cell_type": "code",
   "execution_count": null,
   "metadata": {},
   "outputs": [],
   "source": [
    "heights.iscatter('Parent Average', 'Child')"
   ]
  },
  {
   "cell_type": "markdown",
   "metadata": {},
   "source": [
    "### The Nearest Neighbor Predictions\n",
    "\n",
    "Could we use this data to help us predict the height of a newborn child given the parent's height? \n",
    "\n",
    "In lecture 10, we actually developed a highly sophisticated process for predicting the height of a child given the average heigh of both their parents.  We looked at children of parents with similar heights in our data and then took the average height of those nearby children."
   ]
  },
  {
   "cell_type": "code",
   "execution_count": null,
   "metadata": {},
   "outputs": [],
   "source": [
    "def nearest_neighbor_predictor(parent_average, window=0.5):\n",
    "    lower_bound = parent_average - window\n",
    "    upper_bound = parent_average + window\n",
    "    similar_child_heights = (\n",
    "        heights\n",
    "            .where(\"Parent Average\", are.between(lower_bound, upper_bound))\n",
    "            .column(\"Child\")\n",
    "    )\n",
    "    return np.mean(similar_child_heights)"
   ]
  },
  {
   "cell_type": "code",
   "execution_count": null,
   "metadata": {},
   "outputs": [],
   "source": [
    "my_height = 5*12 + 11 # 5 ft 11 inches\n",
    "spouse_height = 5*12 + 7 # 5 ft 7 inches\n",
    "our_average = (my_height + spouse_height) / 2.0\n",
    "our_average"
   ]
  },
  {
   "cell_type": "code",
   "execution_count": null,
   "metadata": {},
   "outputs": [],
   "source": [
    "nearest_neighbor_predictor(our_average)"
   ]
  },
  {
   "cell_type": "markdown",
   "metadata": {},
   "source": [
    "In pictures, this nearest neighbor predictor looks like."
   ]
  },
  {
   "cell_type": "code",
   "execution_count": null,
   "metadata": {},
   "outputs": [],
   "source": [
    "fig = px.scatter(x=heights.column('Parent Average'), y=heights.column('Child'))\n",
    "fig.add_vline(our_average - 0.5)\n",
    "fig.add_vline(our_average + 0.5)\n",
    "fig.add_scatter(x=[our_average], y=[nearest_neighbor_predictor(our_average)], \n",
    "                name=\"Prediction\", marker_size=10)"
   ]
  },
  {
   "cell_type": "markdown",
   "metadata": {},
   "source": [
    "To get a sense as to how well our predictor works, we can apply it to each of the records in our dataset. Of course, we already know the height of the children for each of the records but this gives us a simple way to evaluate our predictions when we know the answer."
   ]
  },
  {
   "cell_type": "code",
   "execution_count": null,
   "metadata": {},
   "outputs": [],
   "source": [
    "heights_with_predictions = heights.with_columns(\n",
    "    'Prediction', heights.apply(nearest_neighbor_predictor, 'Parent Average'))"
   ]
  },
  {
   "cell_type": "code",
   "execution_count": null,
   "metadata": {},
   "outputs": [],
   "source": [
    "heights_with_predictions.iscatter('Parent Average')"
   ]
  },
  {
   "cell_type": "markdown",
   "metadata": {},
   "source": [
    "The yellow line above is not actually a line but a curve.  It is actually a fairly  advanced model capable of capturing complex non-linear relationships.  However, for many activities in data science we will be interested in a simple line that approximates the yellow curve. In this and the next few lectures we will build an intuition for the properties of this line and it's derivation. \n",
    "\n",
    "We still start with a mathematical description of the **linear association** between two variables: *a numerical measure of how closely two variables follow a line.*"
   ]
  },
  {
   "cell_type": "markdown",
   "metadata": {},
   "source": [
    "<br><br><br>\n",
    "\n",
    "---\n",
    "\n",
    "<center>Return to Slides</center>\n",
    "\n",
    "---\n",
    "\n",
    "<br><br><br>"
   ]
  },
  {
   "cell_type": "markdown",
   "metadata": {},
   "source": [
    "## Association\n",
    "\n",
    "We already saw one example of an association between two variables:"
   ]
  },
  {
   "cell_type": "code",
   "execution_count": null,
   "metadata": {},
   "outputs": [],
   "source": [
    "heights_with_predictions.iscatter('Parent Average')"
   ]
  },
  {
   "cell_type": "markdown",
   "metadata": {},
   "source": [
    "Let's look at another dataset consist of hybrid cars.  This dataset contains the vehicle model, the year it was released, the manufacturers suggested retail price (msrp), the acceleration (in km/h/s so bigger *is* better), fuel efficiency (mpg), and the type of car (class)."
   ]
  },
  {
   "cell_type": "code",
   "execution_count": null,
   "metadata": {},
   "outputs": [],
   "source": [
    "hybrid = Table.read_table('hybrid.csv')\n",
    "hybrid.show(5)"
   ]
  },
  {
   "cell_type": "markdown",
   "metadata": {},
   "source": [
    "There are some expensive hybrids..."
   ]
  },
  {
   "cell_type": "code",
   "execution_count": null,
   "metadata": {},
   "outputs": [],
   "source": [
    "hybrid.sort('msrp', descending=True)"
   ]
  },
  {
   "cell_type": "markdown",
   "metadata": {},
   "source": [
    "The first step in studying an association is to visualize the data."
   ]
  },
  {
   "cell_type": "code",
   "execution_count": null,
   "metadata": {},
   "outputs": [],
   "source": [
    "px.scatter(hybrid.to_df(), \n",
    "           x=\"msrp\", \n",
    "           y=\"mpg\", \n",
    "           hover_name=\"vehicle\", \n",
    "           color=\"class\")"
   ]
  },
  {
   "cell_type": "code",
   "execution_count": null,
   "metadata": {},
   "outputs": [],
   "source": [
    "px.scatter(hybrid.to_df(), \n",
    "           x=\"msrp\", \n",
    "           y=\"acceleration\", \n",
    "           hover_name=\"vehicle\", \n",
    "           color=\"class\")"
   ]
  },
  {
   "cell_type": "markdown",
   "metadata": {},
   "source": [
    "We could even consider plotting at MPG, acceleration, and price all at once."
   ]
  },
  {
   "cell_type": "code",
   "execution_count": null,
   "metadata": {},
   "outputs": [],
   "source": [
    "px.scatter(hybrid.to_df(), \n",
    "           x=\"msrp\", \n",
    "           y=\"acceleration\", \n",
    "           size=\"mpg\",\n",
    "           hover_name=\"vehicle\", \n",
    "           color=\"class\")"
   ]
  },
  {
   "cell_type": "code",
   "execution_count": null,
   "metadata": {},
   "outputs": [],
   "source": [
    "px.scatter(hybrid.to_df(), \n",
    "           x=\"mpg\", \n",
    "           y=\"acceleration\", \n",
    "           size=\"msrp\",\n",
    "           hover_name=\"vehicle\", \n",
    "           color=\"class\")"
   ]
  },
  {
   "cell_type": "markdown",
   "metadata": {},
   "source": [
    "What kinds of associations do we observe?"
   ]
  },
  {
   "cell_type": "markdown",
   "metadata": {},
   "source": [
    "<br><br><br>\n",
    "\n",
    "---\n",
    "\n",
    "<center>Return to Slides</center>\n",
    "\n",
    "---\n",
    "\n",
    "<br><br><br>"
   ]
  },
  {
   "cell_type": "markdown",
   "metadata": {},
   "source": [
    "## Correlation\n",
    "\n",
    "Correlation is a measure of the linear relationship between two variables. Before we show you how to compute correlation, let's build an intuition for what it means.  To do that we will use the following helper function to generate data with different correlation values."
   ]
  },
  {
   "cell_type": "markdown",
   "metadata": {},
   "source": [
    "This is a helper function that generates and plots synthetic data with a given $r$ value. You are not expected to understand how this function works as it is well beyond the scope of this class."
   ]
  },
  {
   "cell_type": "code",
   "execution_count": null,
   "metadata": {},
   "outputs": [],
   "source": [
    "def make_correlated_data(r, n=500):\n",
    "    \"Generate a a table with columns x and y with a correlation of approximately r\"\n",
    "    x = np.random.normal(0, 1, n)\n",
    "    z = np.random.normal(0, 1, n)\n",
    "    y = r*x + (np.sqrt(1-r**2))*z\n",
    "    return Table().with_columns(\"x\", x, \"y\", y)\n",
    "\n",
    "def r_scatter(r, n=500, subplot=False):\n",
    "    \"Generate a scatter plot with a correlation approximately r\"\n",
    "    data = make_correlated_data(r, n)\n",
    "    plt = go.Scatter(x=data.column(\"x\"), y= data.column(\"y\"), \n",
    "                     name=str(r), mode=\"markers\")\n",
    "    if subplot:\n",
    "        return plt\n",
    "    else: \n",
    "        return go.Figure().add_trace(plt)"
   ]
  },
  {
   "cell_type": "code",
   "execution_count": null,
   "metadata": {},
   "outputs": [],
   "source": [
    "r_scatter(0.8)"
   ]
  },
  {
   "cell_type": "code",
   "execution_count": null,
   "metadata": {},
   "outputs": [],
   "source": [
    "figs = make_subplots(2,3)\n",
    "n=200\n",
    "figs.add_trace(r_scatter(0.2,  n, subplot=True), 1, 1)\n",
    "figs.add_trace(r_scatter(0.5,  n, subplot=True), 1, 2)\n",
    "figs.add_trace(r_scatter(0.8,  n, subplot=True), 1, 3)\n",
    "figs.add_trace(r_scatter(-0.2, n, subplot=True), 2, 1)\n",
    "figs.add_trace(r_scatter(-0.5, n, subplot=True), 2, 2)\n",
    "figs.add_trace(r_scatter(-0.8, n, subplot=True), 2, 3)"
   ]
  },
  {
   "cell_type": "markdown",
   "metadata": {},
   "source": [
    "<br><br><br>\n",
    "\n",
    "\n",
    "### Computing the Correlation"
   ]
  },
  {
   "cell_type": "markdown",
   "metadata": {},
   "source": [
    " To derive the correlation, we start by converting our data to standard units.\n",
    "\n",
    "Recall in previous lectures we introduced a function to transform our data into standard units."
   ]
  },
  {
   "cell_type": "code",
   "execution_count": null,
   "metadata": {},
   "outputs": [],
   "source": [
    "def standard_units(x):\n",
    "    \"Convert any array of numbers to standard units.\"\n",
    "    return (x - np.average(x)) / np.std(x)"
   ]
  },
  {
   "cell_type": "markdown",
   "metadata": {},
   "source": [
    "Lets add standard unit (SU) versions of the `mpg`, `msrp`, and `acceleration` to our hybrid table."
   ]
  },
  {
   "cell_type": "code",
   "execution_count": null,
   "metadata": {},
   "outputs": [],
   "source": [
    "hybrid = hybrid.with_columns(\n",
    "    \"mpg (SU)\", standard_units(hybrid.column('mpg')),\n",
    "    \"msrp (SU)\", standard_units(hybrid.column('msrp')),\n",
    "    \"acceleration (SU)\", standard_units(hybrid.column('acceleration')),\n",
    ")\n",
    "hybrid.show(5)"
   ]
  },
  {
   "cell_type": "markdown",
   "metadata": {},
   "source": [
    "How does this change the plots?"
   ]
  },
  {
   "cell_type": "code",
   "execution_count": null,
   "metadata": {},
   "outputs": [],
   "source": [
    "px.scatter(hybrid.to_df(), \n",
    "           x=\"msrp\", \n",
    "           y=\"acceleration\", \n",
    "           hover_name=\"vehicle\", \n",
    "           color=\"class\")"
   ]
  },
  {
   "cell_type": "code",
   "execution_count": null,
   "metadata": {},
   "outputs": [],
   "source": [
    "px.scatter(hybrid.to_df(), \n",
    "           x=\"msrp (SU)\", \n",
    "           y=\"acceleration (SU)\", \n",
    "           hover_name=\"vehicle\", \n",
    "           color=\"class\")"
   ]
  },
  {
   "cell_type": "markdown",
   "metadata": {},
   "source": [
    "I could not plot the marker size in standard units because marker sizes must be a positive integer."
   ]
  },
  {
   "cell_type": "markdown",
   "metadata": {},
   "source": [
    "<br><br><br>\n",
    "\n",
    "The correlation is the **average** of the **product** of the **standard units** of each variable.\n",
    "\n",
    "\\begin{align}\n",
    "r & = \\frac{1}{n}\\sum_{i=1}^n \\left( \\frac{x_i - \\text{Mean}(x)}{\\text{Stdev}(x)} \\right) * \\left( \\frac{y_i - \\text{Mean}(y)}{\\text{Stdev}(y)} \\right) \\\\\n",
    " & = \\frac{1}{n} \\sum_{i=1}^n \\text{StandardUnits}(x_i) *  \\text{StandardUnits}(y_i)\\\\\n",
    " & = \\text{Mean}\\left(\\text{StandardUnits}(x) *  \\text{StandardUnits}(y)\\right)\n",
    "\\end{align}\n"
   ]
  },
  {
   "cell_type": "code",
   "execution_count": null,
   "metadata": {},
   "outputs": [],
   "source": [
    "np.mean(hybrid.column(\"acceleration (SU)\") * hybrid.column(\"msrp (SU)\"))"
   ]
  },
  {
   "cell_type": "markdown",
   "metadata": {},
   "source": [
    "A positive correlation close to 1 would mean that when acceleration is larger than the mean then msrp should also be larger than the mean.  Looking at the histogram of the product we see:"
   ]
  },
  {
   "cell_type": "code",
   "execution_count": null,
   "metadata": {},
   "outputs": [],
   "source": [
    "Table().with_column(\n",
    "    \"Product\", hybrid.column(\"acceleration (SU)\") * hybrid.column(\"msrp (SU)\")\n",
    ").ihist(\"Product\", bins=20)"
   ]
  },
  {
   "cell_type": "markdown",
   "metadata": {},
   "source": [
    "### Defining the Correlation Function\n",
    "\n",
    "Let's define a function that computes the correlation between two columns in a table."
   ]
  },
  {
   "cell_type": "code",
   "execution_count": null,
   "metadata": {},
   "outputs": [],
   "source": [
    "def correlation(t, x, y):\n",
    "    \"\"\"t is a table; x and y are column labels\"\"\"\n",
    "    x_in_su = standard_units(t.column(x))\n",
    "    y_in_su = standard_units(t.column(y))\n",
    "    return np.mean(x_in_su * y_in_su)"
   ]
  },
  {
   "cell_type": "markdown",
   "metadata": {},
   "source": [
    "<br>\n",
    "<details><summary>Solution</summary><br>\n",
    "\n",
    "```python\n",
    "def correlation(t, x, y):\n",
    "    \"\"\"t is a table; x and y are column labels\"\"\"\n",
    "    x_in_su = standard_units(t.column(x))\n",
    "    y_in_su = standard_units(t.column(y))\n",
    "    return np.mean(x_in_su * y_in_su)\n",
    "```\n",
    "\n",
    "<br></details><br>"
   ]
  },
  {
   "cell_type": "markdown",
   "metadata": {},
   "source": [
    "Can you guess the value of the correlation for each of the following relationships:"
   ]
  },
  {
   "cell_type": "code",
   "execution_count": null,
   "metadata": {},
   "outputs": [],
   "source": [
    "fig = make_subplots(1,3)\n",
    "fig.add_scatter(x=hybrid.column(\"msrp\"), y=hybrid.column(\"mpg\"), \n",
    "                mode=\"markers\", row=1, col=1)\n",
    "fig.add_scatter(x=hybrid.column(\"msrp\"), y=hybrid.column(\"acceleration\"), \n",
    "                mode=\"markers\", row=1, col=2)\n",
    "fig.add_scatter(x=hybrid.column(\"mpg\"), y=hybrid.column(\"acceleration\"), \n",
    "                mode=\"markers\", row=1, col=3)\n",
    "fig.update_xaxes(title_text=\"msrp\", row=1, col=1)\n",
    "fig.update_yaxes(title_text=\"mpg\", row=1, col=1)\n",
    "fig.update_xaxes(title_text=\"msrp\", row=1, col=2)\n",
    "fig.update_yaxes(title_text=\"acceleration\", row=1, col=2)\n",
    "fig.update_xaxes(title_text=\"mpg\", row=1, col=3)\n",
    "fig.update_yaxes(title_text=\"acceleration\", row=1, col=3)\n",
    "fig.update_layout(showlegend=False)\n"
   ]
  },
  {
   "cell_type": "code",
   "execution_count": null,
   "metadata": {},
   "outputs": [],
   "source": [
    "correlation(hybrid, \"msrp\", \"mpg\")"
   ]
  },
  {
   "cell_type": "code",
   "execution_count": null,
   "metadata": {},
   "outputs": [],
   "source": [
    "correlation(hybrid, \"msrp\", \"acceleration\")"
   ]
  },
  {
   "cell_type": "code",
   "execution_count": null,
   "metadata": {},
   "outputs": [],
   "source": [
    "correlation(hybrid, \"mpg\", \"acceleration\")"
   ]
  },
  {
   "cell_type": "markdown",
   "metadata": {},
   "source": [
    "<br><br><br>\n",
    "\n",
    "### Switching Axes\n",
    "\n",
    "What happens if we swap the axes?"
   ]
  },
  {
   "cell_type": "code",
   "execution_count": null,
   "metadata": {},
   "outputs": [],
   "source": [
    "px.scatter(hybrid.to_df(), \n",
    "           x=\"msrp\", \n",
    "           y=\"acceleration\", \n",
    "           hover_name=\"vehicle\", \n",
    "           color=\"class\")"
   ]
  },
  {
   "cell_type": "code",
   "execution_count": null,
   "metadata": {},
   "outputs": [],
   "source": [
    "px.scatter(hybrid.to_df(), \n",
    "           x=\"acceleration\", \n",
    "           y=\"msrp\", \n",
    "           hover_name=\"vehicle\", \n",
    "           color=\"class\")"
   ]
  },
  {
   "cell_type": "code",
   "execution_count": null,
   "metadata": {},
   "outputs": [],
   "source": [
    "correlation(hybrid, \"msrp\", \"acceleration\")"
   ]
  },
  {
   "cell_type": "code",
   "execution_count": null,
   "metadata": {},
   "outputs": [],
   "source": [
    "correlation(hybrid, \"acceleration\", \"msrp\")"
   ]
  },
  {
   "cell_type": "markdown",
   "metadata": {},
   "source": [
    "<details><summary>Solution</summary>\n",
    "\n",
    "Switching axes doesn't affect the correlation.  It is a symmetric function.\n",
    "\n",
    "</details>"
   ]
  },
  {
   "cell_type": "markdown",
   "metadata": {},
   "source": [
    "<br><br><br>\n",
    "\n",
    "---\n",
    "\n",
    "<center>Return to Slides</center>\n",
    "\n",
    "---\n",
    "\n",
    "<br><br><br>"
   ]
  },
  {
   "cell_type": "markdown",
   "metadata": {},
   "source": [
    "## Care when Interpreting Correlation\n",
    "\n",
    "When computing correlation it is important to always visualize your data first and then consider each of the following issues.\n"
   ]
  },
  {
   "cell_type": "markdown",
   "metadata": {},
   "source": [
    "<br><br><br>\n",
    "\n",
    "### Correlation does Not Imply Causation\n",
    "\n",
    "We have covered this one extensively at this point.  "
   ]
  },
  {
   "cell_type": "markdown",
   "metadata": {},
   "source": [
    "<br><br><br>\n",
    "\n",
    "\n",
    "### Nonlinearity\n",
    "\n",
    "Low correlation does not imply absence of a relationship. Correlation measures linear relationships.  Data with strong non-linear relationship may have very low correlation.  "
   ]
  },
  {
   "cell_type": "code",
   "execution_count": null,
   "metadata": {},
   "outputs": [],
   "source": [
    "new_x = np.arange(-4, 4.1, 0.5)\n",
    "nonlinear = Table().with_columns(\n",
    "        'x', new_x,\n",
    "        'y', new_x**2\n",
    "    )\n",
    "nonlinear.iscatter('x', 'y')"
   ]
  },
  {
   "cell_type": "markdown",
   "metadata": {},
   "source": [
    "There is clearly a relationship to this data.  Given the value of $x$ you can easily predict the value of $y$.  What is the correlation?"
   ]
  },
  {
   "cell_type": "code",
   "execution_count": null,
   "metadata": {},
   "outputs": [],
   "source": [
    "correlation(nonlinear, 'x', 'y')"
   ]
  },
  {
   "cell_type": "markdown",
   "metadata": {},
   "source": [
    "As a quick aside, how would our nearest neighbor predictor work on this non-linear data."
   ]
  },
  {
   "cell_type": "code",
   "execution_count": null,
   "metadata": {},
   "outputs": [],
   "source": [
    "def nn_predictor(x):\n",
    "    return np.mean(nonlinear.where(\"x\", are.between(x-0.51, x+0.51)).column(\"y\"))"
   ]
  },
  {
   "cell_type": "code",
   "execution_count": null,
   "metadata": {},
   "outputs": [],
   "source": [
    "(\n",
    "    nonlinear.with_column(\"Prediction\", nonlinear.apply(nn_predictor, \"x\"))\n",
    "            .iscatter(\"x\")\n",
    ")\n"
   ]
  },
  {
   "cell_type": "markdown",
   "metadata": {},
   "source": [
    "<br><br><br>\n",
    "\n",
    "### Outliers\n",
    "\n",
    "Outliers can have a significant effect on correlation.  "
   ]
  },
  {
   "cell_type": "code",
   "execution_count": null,
   "metadata": {},
   "outputs": [],
   "source": [
    "line = Table().with_columns(\n",
    "        'x', make_array(1, 2, 3, 4),\n",
    "        'y', make_array(1, 2, 3, 4)\n",
    "    )\n",
    "line.iscatter('x', 'y')"
   ]
  },
  {
   "cell_type": "code",
   "execution_count": null,
   "metadata": {},
   "outputs": [],
   "source": [
    "correlation(line, 'x', 'y')"
   ]
  },
  {
   "cell_type": "code",
   "execution_count": null,
   "metadata": {},
   "outputs": [],
   "source": [
    "outlier = Table().with_columns(\n",
    "        'x', make_array(1, 2, 3, 4, 5),\n",
    "        'y', make_array(1, 2, 3, 4, 0)\n",
    "    )\n",
    "outlier.iscatter('x', 'y')"
   ]
  },
  {
   "cell_type": "code",
   "execution_count": null,
   "metadata": {},
   "outputs": [],
   "source": [
    "correlation(outlier, 'x', 'y')"
   ]
  },
  {
   "cell_type": "markdown",
   "metadata": {},
   "source": [
    "### Ecological Correlations\n",
    "\n",
    "The correlation between aggregated variables (e.g., after grouping) may be much higher than the correlation between the underlying variables."
   ]
  },
  {
   "cell_type": "code",
   "execution_count": null,
   "metadata": {},
   "outputs": [],
   "source": [
    "sat2014 = Table.read_table('sat2014.csv').sort('State')\n",
    "sat2014"
   ]
  },
  {
   "cell_type": "code",
   "execution_count": null,
   "metadata": {},
   "outputs": [],
   "source": [
    "sat2014.iscatter('Critical Reading', 'Math')"
   ]
  },
  {
   "cell_type": "code",
   "execution_count": null,
   "metadata": {},
   "outputs": [],
   "source": [
    "correlation(sat2014, 'Critical Reading', 'Math')"
   ]
  },
  {
   "cell_type": "markdown",
   "metadata": {},
   "source": [
    "That is a very strong correlation.  However, each data point corresponds to a large cloud of data points where each person might have had greater variability in their scores.  "
   ]
  },
  {
   "cell_type": "markdown",
   "metadata": {},
   "source": [
    "<br><br><br><br>\n",
    "\n",
    "\n",
    "### Bonus: Understanding the SAT data\n",
    "While we have the data loaded.  Does anyone have a guess which dots correspond to which state?"
   ]
  },
  {
   "cell_type": "code",
   "execution_count": null,
   "metadata": {},
   "outputs": [],
   "source": [
    "px.scatter(sat2014.to_df(), \n",
    "           x = \"Critical Reading\",\n",
    "           y = \"Math\",\n",
    "           hover_name = \"State\",\n",
    "           size = \"Participation Rate\")"
   ]
  }
 ],
 "metadata": {
  "kernelspec": {
   "display_name": "Python 3 (ipykernel)",
   "language": "python",
   "name": "python3"
  },
  "language_info": {
   "codemirror_mode": {
    "name": "ipython",
    "version": 3
   },
   "file_extension": ".py",
   "mimetype": "text/x-python",
   "name": "python",
   "nbconvert_exporter": "python",
   "pygments_lexer": "ipython3",
   "version": "3.9.15"
  }
 },
 "nbformat": 4,
 "nbformat_minor": 4
}
